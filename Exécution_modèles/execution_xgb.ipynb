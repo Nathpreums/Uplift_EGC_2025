{
 "cells": [
  {
   "cell_type": "code",
   "execution_count": 36,
   "id": "fbdb56fc-90d5-4c06-895e-365df8b25707",
   "metadata": {},
   "outputs": [],
   "source": [
    "#from causalml.dataset import synthetic_data\n",
    "import seaborn as sns\n",
    "import matplotlib\n",
    "#from causalml.inference.meta import BaseSClassifier, BaseTClassifier, BaseXClassifier\n",
    "from xgboost import XGBClassifier, XGBRegressor\n",
    "from lightgbm import LGBMClassifier, LGBMRegressor\n",
    "from sklearn.ensemble import RandomForestClassifier\n",
    "from sklearn.base import BaseEstimator, TransformerMixin\n",
    "from sklearn.base import clone\n",
    "import random\n",
    "from scipy.stats import norm\n",
    "import matplotlib.pyplot as plt\n",
    "from sklearn.ensemble import GradientBoostingClassifier\n",
    "from sklearn.linear_model import LogisticRegression\n",
    "from sklearn.svm import SVC\n",
    "from sklearn.neural_network import MLPClassifier\n",
    "from sklearn.ensemble import RandomForestClassifier\n",
    "from sklearn.neighbors import KNeighborsClassifier\n",
    "from sklearn.tree import DecisionTreeClassifier\n",
    "import xgboost as xgb\n",
    "from sklearn.ensemble import AdaBoostClassifier\n",
    "import itertools\n",
    "import matplotlib.pyplot as plt\n",
    "import numpy as np\n",
    "from scipy.stats import norm\n",
    "from scipy.optimize import minimize\n",
    "import pandas as pd\n",
    "from sklift.metrics import qini_auc_score\n",
    "from sklearn.linear_model import LogisticRegression\n",
    "from sklearn.ensemble import RandomForestClassifier\n",
    "from sklearn.model_selection import StratifiedKFold\n",
    "from sklearn.naive_bayes import GaussianNB, MultinomialNB, BernoulliNB\n",
    "from sklearn import preprocessing\n",
    "import kuplift as kp\n",
    "import warnings\n",
    "import importlib\n",
    "import subprocess\n",
    "from sklearn.metrics import mean_squared_error\n",
    "import numpy as np\n",
    "import sys\n",
    "from sklearn.model_selection import train_test_split\n",
    "from matplotlib.colors import LinearSegmentedColormap\n",
    "from tqdm import tqdm\n",
    "import time\n",
    "import ray\n",
    "from modèles import *\n",
    "from évaluation import *\n",
    "from generate_synth import *\n",
    "import logging\n",
    "import gc\n",
    "import re\n",
    "warnings.filterwarnings('ignore')"
   ]
  },
  {
   "cell_type": "code",
   "execution_count": 37,
   "id": "9263817a-36a0-4f56-b6db-8396b494b2c2",
   "metadata": {},
   "outputs": [],
   "source": [
    "ray.shutdown()"
   ]
  },
  {
   "cell_type": "code",
   "execution_count": 38,
   "id": "b28f594a-efda-4104-b017-2e0a7a22f18d",
   "metadata": {},
   "outputs": [
    {
     "name": "stderr",
     "output_type": "stream",
     "text": [
      "Traitement des fichiers CSV:   0%|          | 0/150 [00:00<?, ?fichier/s]"
     ]
    },
    {
     "name": "stdout",
     "output_type": "stream",
     "text": [
      "33_016.csv\n"
     ]
    },
    {
     "name": "stderr",
     "output_type": "stream",
     "text": [
      "2024-09-27 14:30:35,111\tINFO worker.py:1770 -- Started a local Ray instance.\n",
      "Traitement des fichiers CSV:   1%|          | 1/150 [07:10<17:48:36, 430.31s/fichier]"
     ]
    },
    {
     "name": "stdout",
     "output_type": "stream",
     "text": [
      "5_0110.csv\n"
     ]
    },
    {
     "name": "stderr",
     "output_type": "stream",
     "text": [
      "Traitement des fichiers CSV:   1%|▏         | 2/150 [07:43<8:05:49, 196.96s/fichier] "
     ]
    },
    {
     "name": "stdout",
     "output_type": "stream",
     "text": [
      "33_04068.csv\n"
     ]
    },
    {
     "name": "stderr",
     "output_type": "stream",
     "text": [
      "Traitement des fichiers CSV:   2%|▏         | 3/150 [14:16<11:41:55, 286.50s/fichier]"
     ]
    },
    {
     "name": "stdout",
     "output_type": "stream",
     "text": [
      "33_013.csv\n"
     ]
    },
    {
     "name": "stderr",
     "output_type": "stream",
     "text": [
      "Traitement des fichiers CSV:   3%|▎         | 4/150 [21:17<13:45:33, 339.27s/fichier]"
     ]
    },
    {
     "name": "stdout",
     "output_type": "stream",
     "text": [
      "9_04067.csv\n"
     ]
    },
    {
     "name": "stderr",
     "output_type": "stream",
     "text": [
      "Traitement des fichiers CSV:   3%|▎         | 5/150 [22:17<9:36:28, 238.54s/fichier] "
     ]
    },
    {
     "name": "stdout",
     "output_type": "stream",
     "text": [
      "9_04061.csv\n"
     ]
    },
    {
     "name": "stderr",
     "output_type": "stream",
     "text": [
      "Traitement des fichiers CSV:   4%|▍         | 6/150 [23:17<7:06:48, 177.84s/fichier]"
     ]
    },
    {
     "name": "stdout",
     "output_type": "stream",
     "text": [
      "3_04065.csv\n"
     ]
    },
    {
     "name": "stderr",
     "output_type": "stream",
     "text": [
      "Traitement des fichiers CSV:   5%|▍         | 7/150 [23:35<4:59:46, 125.78s/fichier]"
     ]
    },
    {
     "name": "stdout",
     "output_type": "stream",
     "text": [
      "17_02086.csv\n"
     ]
    },
    {
     "name": "stderr",
     "output_type": "stream",
     "text": [
      "Traitement des fichiers CSV:   5%|▌         | 8/150 [25:57<5:09:45, 130.88s/fichier]"
     ]
    },
    {
     "name": "stdout",
     "output_type": "stream",
     "text": [
      "33_04069.csv\n"
     ]
    },
    {
     "name": "stderr",
     "output_type": "stream",
     "text": [
      "Traitement des fichiers CSV:   6%|▌         | 9/150 [32:33<8:22:16, 213.73s/fichier]"
     ]
    },
    {
     "name": "stdout",
     "output_type": "stream",
     "text": [
      "33_017.csv\n"
     ]
    },
    {
     "name": "stderr",
     "output_type": "stream",
     "text": [
      "Traitement des fichiers CSV:   7%|▋         | 10/150 [39:43<10:54:19, 280.43s/fichier]"
     ]
    },
    {
     "name": "stdout",
     "output_type": "stream",
     "text": [
      "33_04062.csv\n"
     ]
    },
    {
     "name": "stderr",
     "output_type": "stream",
     "text": [
      "Traitement des fichiers CSV:   7%|▋         | 11/150 [46:07<12:03:06, 312.13s/fichier]"
     ]
    },
    {
     "name": "stdout",
     "output_type": "stream",
     "text": [
      "17_02085.csv\n"
     ]
    },
    {
     "name": "stderr",
     "output_type": "stream",
     "text": [
      "Traitement des fichiers CSV:   8%|▊         | 12/150 [48:26<9:57:09, 259.63s/fichier] "
     ]
    },
    {
     "name": "stdout",
     "output_type": "stream",
     "text": [
      "33_020810.csv\n"
     ]
    },
    {
     "name": "stderr",
     "output_type": "stream",
     "text": [
      "Traitement des fichiers CSV:   9%|▊         | 13/150 [54:53<11:20:35, 298.07s/fichier]"
     ]
    },
    {
     "name": "stdout",
     "output_type": "stream",
     "text": [
      "33_04063.csv\n"
     ]
    },
    {
     "name": "stderr",
     "output_type": "stream",
     "text": [
      "Traitement des fichiers CSV:   9%|▉         | 14/150 [1:01:21<12:17:32, 325.38s/fichier]"
     ]
    },
    {
     "name": "stdout",
     "output_type": "stream",
     "text": [
      "9_04068.csv\n"
     ]
    },
    {
     "name": "stderr",
     "output_type": "stream",
     "text": [
      "Traitement des fichiers CSV:  10%|█         | 15/150 [1:02:22<9:12:28, 245.54s/fichier] "
     ]
    },
    {
     "name": "stdout",
     "output_type": "stream",
     "text": [
      "3_02087.csv\n"
     ]
    },
    {
     "name": "stderr",
     "output_type": "stream",
     "text": [
      "Traitement des fichiers CSV:  11%|█         | 16/150 [1:02:41<6:35:56, 177.29s/fichier]"
     ]
    },
    {
     "name": "stdout",
     "output_type": "stream",
     "text": [
      "5_018.csv\n"
     ]
    },
    {
     "name": "stderr",
     "output_type": "stream",
     "text": [
      "Traitement des fichiers CSV:  11%|█▏        | 17/150 [1:03:12<4:56:04, 133.57s/fichier]"
     ]
    },
    {
     "name": "stdout",
     "output_type": "stream",
     "text": [
      "9_04062.csv\n"
     ]
    },
    {
     "name": "stderr",
     "output_type": "stream",
     "text": [
      "Traitement des fichiers CSV:  12%|█▏        | 18/150 [1:04:13<4:05:47, 111.72s/fichier]"
     ]
    },
    {
     "name": "stdout",
     "output_type": "stream",
     "text": [
      "9_0110.csv\n"
     ]
    },
    {
     "name": "stderr",
     "output_type": "stream",
     "text": [
      "Traitement des fichiers CSV:  13%|█▎        | 19/150 [1:05:17<3:32:16, 97.22s/fichier] "
     ]
    },
    {
     "name": "stdout",
     "output_type": "stream",
     "text": [
      "17_02081.csv\n"
     ]
    },
    {
     "name": "stderr",
     "output_type": "stream",
     "text": [
      "Traitement des fichiers CSV:  13%|█▎        | 20/150 [1:07:36<3:58:03, 109.87s/fichier]"
     ]
    },
    {
     "name": "stdout",
     "output_type": "stream",
     "text": [
      "3_020810.csv\n"
     ]
    },
    {
     "name": "stderr",
     "output_type": "stream",
     "text": [
      "Traitement des fichiers CSV:  14%|█▍        | 21/150 [1:07:55<2:57:22, 82.50s/fichier] "
     ]
    },
    {
     "name": "stdout",
     "output_type": "stream",
     "text": [
      "17_04062.csv\n"
     ]
    },
    {
     "name": "stderr",
     "output_type": "stream",
     "text": [
      "Traitement des fichiers CSV:  15%|█▍        | 22/150 [1:10:11<3:30:16, 98.57s/fichier]"
     ]
    },
    {
     "name": "stdout",
     "output_type": "stream",
     "text": [
      "3_011.csv\n"
     ]
    },
    {
     "name": "stderr",
     "output_type": "stream",
     "text": [
      "Traitement des fichiers CSV:  15%|█▌        | 23/150 [1:10:30<2:38:26, 74.85s/fichier]"
     ]
    },
    {
     "name": "stdout",
     "output_type": "stream",
     "text": [
      "9_02084.csv\n"
     ]
    },
    {
     "name": "stderr",
     "output_type": "stream",
     "text": [
      "Traitement des fichiers CSV:  16%|█▌        | 24/150 [1:11:29<2:27:13, 70.11s/fichier]"
     ]
    },
    {
     "name": "stdout",
     "output_type": "stream",
     "text": [
      "33_04067.csv\n"
     ]
    },
    {
     "name": "stderr",
     "output_type": "stream",
     "text": [
      "Traitement des fichiers CSV:  17%|█▋        | 25/150 [1:17:55<5:43:24, 164.84s/fichier]"
     ]
    },
    {
     "name": "stdout",
     "output_type": "stream",
     "text": [
      "3_02084.csv\n"
     ]
    },
    {
     "name": "stderr",
     "output_type": "stream",
     "text": [
      "Traitement des fichiers CSV:  17%|█▋        | 26/150 [1:18:14<4:10:07, 121.03s/fichier]"
     ]
    },
    {
     "name": "stdout",
     "output_type": "stream",
     "text": [
      "5_011.csv\n"
     ]
    },
    {
     "name": "stderr",
     "output_type": "stream",
     "text": [
      "Traitement des fichiers CSV:  18%|█▊        | 27/150 [1:18:46<3:13:36, 94.44s/fichier] "
     ]
    },
    {
     "name": "stdout",
     "output_type": "stream",
     "text": [
      "33_019.csv\n"
     ]
    },
    {
     "name": "stderr",
     "output_type": "stream",
     "text": [
      "Traitement des fichiers CSV:  19%|█▊        | 28/150 [1:25:44<6:29:20, 191.48s/fichier]"
     ]
    },
    {
     "name": "stdout",
     "output_type": "stream",
     "text": [
      "33_02088.csv\n"
     ]
    },
    {
     "name": "stderr",
     "output_type": "stream",
     "text": [
      "Traitement des fichiers CSV:  19%|█▉        | 29/150 [1:32:13<8:25:23, 250.61s/fichier]"
     ]
    },
    {
     "name": "stdout",
     "output_type": "stream",
     "text": [
      "33_012.csv\n"
     ]
    },
    {
     "name": "stderr",
     "output_type": "stream",
     "text": [
      "Traitement des fichiers CSV:  20%|██        | 30/150 [1:39:16<10:04:28, 302.24s/fichier]"
     ]
    },
    {
     "name": "stdout",
     "output_type": "stream",
     "text": [
      "3_012.csv\n"
     ]
    },
    {
     "name": "stderr",
     "output_type": "stream",
     "text": [
      "Traitement des fichiers CSV:  21%|██        | 31/150 [1:39:35<7:11:16, 217.45s/fichier] "
     ]
    },
    {
     "name": "stdout",
     "output_type": "stream",
     "text": [
      "33_02089.csv\n"
     ]
    },
    {
     "name": "stderr",
     "output_type": "stream",
     "text": [
      "Traitement des fichiers CSV:  21%|██▏       | 32/150 [1:46:05<8:49:30, 269.24s/fichier]"
     ]
    },
    {
     "name": "stdout",
     "output_type": "stream",
     "text": [
      "5_020810.csv\n"
     ]
    },
    {
     "name": "stderr",
     "output_type": "stream",
     "text": [
      "Traitement des fichiers CSV:  22%|██▏       | 33/150 [1:46:38<6:26:49, 198.37s/fichier]"
     ]
    },
    {
     "name": "stdout",
     "output_type": "stream",
     "text": [
      "5_019.csv\n"
     ]
    },
    {
     "name": "stderr",
     "output_type": "stream",
     "text": [
      "Traitement des fichiers CSV:  23%|██▎       | 34/150 [1:47:10<4:46:52, 148.38s/fichier]"
     ]
    },
    {
     "name": "stdout",
     "output_type": "stream",
     "text": [
      "9_02083.csv\n"
     ]
    },
    {
     "name": "stderr",
     "output_type": "stream",
     "text": [
      "Traitement des fichiers CSV:  23%|██▎       | 35/150 [1:48:10<3:53:48, 121.99s/fichier]"
     ]
    },
    {
     "name": "stdout",
     "output_type": "stream",
     "text": [
      "5_02085.csv\n"
     ]
    },
    {
     "name": "stderr",
     "output_type": "stream",
     "text": [
      "Traitement des fichiers CSV:  24%|██▍       | 36/150 [1:48:43<3:00:55, 95.22s/fichier] "
     ]
    },
    {
     "name": "stdout",
     "output_type": "stream",
     "text": [
      "9_04065.csv\n"
     ]
    },
    {
     "name": "stderr",
     "output_type": "stream",
     "text": [
      "Traitement des fichiers CSV:  25%|██▍       | 37/150 [1:49:43<2:39:22, 84.62s/fichier]"
     ]
    },
    {
     "name": "stdout",
     "output_type": "stream",
     "text": [
      "9_014.csv\n"
     ]
    },
    {
     "name": "stderr",
     "output_type": "stream",
     "text": [
      "Traitement des fichiers CSV:  25%|██▌       | 38/150 [1:50:47<2:26:10, 78.31s/fichier]"
     ]
    },
    {
     "name": "stdout",
     "output_type": "stream",
     "text": [
      "5_04065.csv\n"
     ]
    },
    {
     "name": "stderr",
     "output_type": "stream",
     "text": [
      "Traitement des fichiers CSV:  26%|██▌       | 39/150 [1:51:19<1:59:12, 64.44s/fichier]"
     ]
    },
    {
     "name": "stdout",
     "output_type": "stream",
     "text": [
      "17_013.csv\n"
     ]
    },
    {
     "name": "stderr",
     "output_type": "stream",
     "text": [
      "Traitement des fichiers CSV:  27%|██▋       | 40/150 [1:53:46<2:43:35, 89.24s/fichier]"
     ]
    },
    {
     "name": "stdout",
     "output_type": "stream",
     "text": [
      "3_017.csv\n"
     ]
    },
    {
     "name": "stderr",
     "output_type": "stream",
     "text": [
      "Traitement des fichiers CSV:  27%|██▋       | 41/150 [1:54:04<2:03:19, 67.88s/fichier]"
     ]
    },
    {
     "name": "stdout",
     "output_type": "stream",
     "text": [
      "9_017.csv\n"
     ]
    },
    {
     "name": "stderr",
     "output_type": "stream",
     "text": [
      "Traitement des fichiers CSV:  28%|██▊       | 42/150 [1:55:07<1:59:49, 66.57s/fichier]"
     ]
    },
    {
     "name": "stdout",
     "output_type": "stream",
     "text": [
      "9_02082.csv\n"
     ]
    },
    {
     "name": "stderr",
     "output_type": "stream",
     "text": [
      "Traitement des fichiers CSV:  29%|██▊       | 43/150 [1:56:09<1:56:04, 65.09s/fichier]"
     ]
    },
    {
     "name": "stdout",
     "output_type": "stream",
     "text": [
      "17_02089.csv\n"
     ]
    },
    {
     "name": "stderr",
     "output_type": "stream",
     "text": [
      "Traitement des fichiers CSV:  29%|██▉       | 44/150 [1:58:32<2:36:05, 88.35s/fichier]"
     ]
    },
    {
     "name": "stdout",
     "output_type": "stream",
     "text": [
      "9_011.csv\n"
     ]
    },
    {
     "name": "stderr",
     "output_type": "stream",
     "text": [
      "Traitement des fichiers CSV:  30%|███       | 45/150 [1:59:36<2:22:02, 81.17s/fichier]"
     ]
    },
    {
     "name": "stdout",
     "output_type": "stream",
     "text": [
      "17_04066.csv\n"
     ]
    },
    {
     "name": "stderr",
     "output_type": "stream",
     "text": [
      "Traitement des fichiers CSV:  31%|███       | 46/150 [2:01:57<2:51:33, 98.97s/fichier]"
     ]
    },
    {
     "name": "stdout",
     "output_type": "stream",
     "text": [
      "3_015.csv\n"
     ]
    },
    {
     "name": "stderr",
     "output_type": "stream",
     "text": [
      "Traitement des fichiers CSV:  31%|███▏      | 47/150 [2:02:15<2:08:29, 74.85s/fichier]"
     ]
    },
    {
     "name": "stdout",
     "output_type": "stream",
     "text": [
      "3_014.csv\n"
     ]
    },
    {
     "name": "stderr",
     "output_type": "stream",
     "text": [
      "Traitement des fichiers CSV:  32%|███▏      | 48/150 [2:02:34<1:38:44, 58.08s/fichier]"
     ]
    },
    {
     "name": "stdout",
     "output_type": "stream",
     "text": [
      "17_040610.csv\n"
     ]
    },
    {
     "name": "stderr",
     "output_type": "stream",
     "text": [
      "Traitement des fichiers CSV:  33%|███▎      | 49/150 [2:04:56<2:20:16, 83.33s/fichier]"
     ]
    },
    {
     "name": "stdout",
     "output_type": "stream",
     "text": [
      "17_014.csv\n"
     ]
    },
    {
     "name": "stderr",
     "output_type": "stream",
     "text": [
      "Traitement des fichiers CSV:  33%|███▎      | 50/150 [2:07:25<2:51:43, 103.04s/fichier]"
     ]
    },
    {
     "name": "stdout",
     "output_type": "stream",
     "text": [
      "5_04062.csv\n"
     ]
    },
    {
     "name": "stderr",
     "output_type": "stream",
     "text": [
      "Traitement des fichiers CSV:  34%|███▍      | 51/150 [2:07:56<2:13:56, 81.18s/fichier] "
     ]
    },
    {
     "name": "stdout",
     "output_type": "stream",
     "text": [
      "9_02087.csv\n"
     ]
    },
    {
     "name": "stderr",
     "output_type": "stream",
     "text": [
      "Traitement des fichiers CSV:  35%|███▍      | 52/150 [2:08:57<2:02:41, 75.11s/fichier]"
     ]
    },
    {
     "name": "stdout",
     "output_type": "stream",
     "text": [
      "9_019.csv\n"
     ]
    },
    {
     "name": "stderr",
     "output_type": "stream",
     "text": [
      "Traitement des fichiers CSV:  35%|███▌      | 53/150 [2:09:59<1:55:15, 71.29s/fichier]"
     ]
    },
    {
     "name": "stdout",
     "output_type": "stream",
     "text": [
      "17_019.csv\n"
     ]
    },
    {
     "name": "stderr",
     "output_type": "stream",
     "text": [
      "Traitement des fichiers CSV:  36%|███▌      | 54/150 [2:12:31<2:32:47, 95.49s/fichier]"
     ]
    },
    {
     "name": "stdout",
     "output_type": "stream",
     "text": [
      "3_04068.csv\n"
     ]
    },
    {
     "name": "stderr",
     "output_type": "stream",
     "text": [
      "Traitement des fichiers CSV:  37%|███▋      | 55/150 [2:12:49<1:54:36, 72.38s/fichier]"
     ]
    },
    {
     "name": "stdout",
     "output_type": "stream",
     "text": [
      "5_013.csv\n"
     ]
    },
    {
     "name": "stderr",
     "output_type": "stream",
     "text": [
      "Traitement des fichiers CSV:  37%|███▋      | 56/150 [2:13:22<1:34:52, 60.56s/fichier]"
     ]
    },
    {
     "name": "stdout",
     "output_type": "stream",
     "text": [
      "3_019.csv\n"
     ]
    },
    {
     "name": "stderr",
     "output_type": "stream",
     "text": [
      "Traitement des fichiers CSV:  38%|███▊      | 57/150 [2:13:42<1:14:54, 48.33s/fichier]"
     ]
    },
    {
     "name": "stdout",
     "output_type": "stream",
     "text": [
      "5_016.csv\n"
     ]
    },
    {
     "name": "stderr",
     "output_type": "stream",
     "text": [
      "Traitement des fichiers CSV:  39%|███▊      | 58/150 [2:14:13<1:06:08, 43.13s/fichier]"
     ]
    },
    {
     "name": "stdout",
     "output_type": "stream",
     "text": [
      "3_04069.csv\n"
     ]
    },
    {
     "name": "stderr",
     "output_type": "stream",
     "text": [
      "Traitement des fichiers CSV:  39%|███▉      | 59/150 [2:14:31<53:58, 35.59s/fichier]  "
     ]
    },
    {
     "name": "stdout",
     "output_type": "stream",
     "text": [
      "17_017.csv\n"
     ]
    },
    {
     "name": "stderr",
     "output_type": "stream",
     "text": [
      "Traitement des fichiers CSV:  40%|████      | 60/150 [2:16:59<1:44:00, 69.34s/fichier]"
     ]
    },
    {
     "name": "stdout",
     "output_type": "stream",
     "text": [
      "5_04063.csv\n"
     ]
    },
    {
     "name": "stderr",
     "output_type": "stream",
     "text": [
      "Traitement des fichiers CSV:  41%|████      | 61/150 [2:17:32<1:26:24, 58.25s/fichier]"
     ]
    },
    {
     "name": "stdout",
     "output_type": "stream",
     "text": [
      "3_040610.csv\n"
     ]
    },
    {
     "name": "stderr",
     "output_type": "stream",
     "text": [
      "Traitement des fichiers CSV:  41%|████▏     | 62/150 [2:17:51<1:08:12, 46.51s/fichier]"
     ]
    },
    {
     "name": "stdout",
     "output_type": "stream",
     "text": [
      "33_04065.csv\n"
     ]
    },
    {
     "name": "stderr",
     "output_type": "stream",
     "text": [
      "Traitement des fichiers CSV:  42%|████▏     | 63/150 [2:24:20<3:36:27, 149.28s/fichier]"
     ]
    },
    {
     "name": "stdout",
     "output_type": "stream",
     "text": [
      "17_012.csv\n"
     ]
    },
    {
     "name": "stderr",
     "output_type": "stream",
     "text": [
      "Traitement des fichiers CSV:  43%|████▎     | 64/150 [2:26:46<3:32:44, 148.42s/fichier]"
     ]
    },
    {
     "name": "stdout",
     "output_type": "stream",
     "text": [
      "9_02085.csv\n"
     ]
    },
    {
     "name": "stderr",
     "output_type": "stream",
     "text": [
      "Traitement des fichiers CSV:  43%|████▎     | 65/150 [2:27:47<2:53:13, 122.28s/fichier]"
     ]
    },
    {
     "name": "stdout",
     "output_type": "stream",
     "text": [
      "3_02089.csv\n"
     ]
    },
    {
     "name": "stderr",
     "output_type": "stream",
     "text": [
      "Traitement des fichiers CSV:  44%|████▍     | 66/150 [2:28:06<2:07:31, 91.09s/fichier] "
     ]
    },
    {
     "name": "stdout",
     "output_type": "stream",
     "text": [
      "9_012.csv\n"
     ]
    },
    {
     "name": "stderr",
     "output_type": "stream",
     "text": [
      "Traitement des fichiers CSV:  45%|████▍     | 67/150 [2:29:07<1:53:34, 82.11s/fichier]"
     ]
    },
    {
     "name": "stdout",
     "output_type": "stream",
     "text": [
      "33_014.csv\n"
     ]
    },
    {
     "name": "stderr",
     "output_type": "stream",
     "text": [
      "Traitement des fichiers CSV:  45%|████▌     | 68/150 [2:36:06<4:10:19, 183.16s/fichier]"
     ]
    },
    {
     "name": "stdout",
     "output_type": "stream",
     "text": [
      "5_04067.csv\n"
     ]
    },
    {
     "name": "stderr",
     "output_type": "stream",
     "text": [
      "Traitement des fichiers CSV:  46%|████▌     | 69/150 [2:36:39<3:06:27, 138.12s/fichier]"
     ]
    },
    {
     "name": "stdout",
     "output_type": "stream",
     "text": [
      "17_02087.csv\n"
     ]
    },
    {
     "name": "stderr",
     "output_type": "stream",
     "text": [
      "Traitement des fichiers CSV:  47%|████▋     | 70/150 [2:38:58<3:04:35, 138.44s/fichier]"
     ]
    },
    {
     "name": "stdout",
     "output_type": "stream",
     "text": [
      "9_020810.csv\n"
     ]
    },
    {
     "name": "stderr",
     "output_type": "stream",
     "text": [
      "Traitement des fichiers CSV:  47%|████▋     | 71/150 [2:39:58<2:31:19, 114.92s/fichier]"
     ]
    },
    {
     "name": "stdout",
     "output_type": "stream",
     "text": [
      "33_02081.csv\n"
     ]
    },
    {
     "name": "stderr",
     "output_type": "stream",
     "text": [
      "Traitement des fichiers CSV:  48%|████▊     | 72/150 [2:46:30<4:17:29, 198.07s/fichier]"
     ]
    },
    {
     "name": "stdout",
     "output_type": "stream",
     "text": [
      "3_016.csv\n"
     ]
    },
    {
     "name": "stderr",
     "output_type": "stream",
     "text": [
      "Traitement des fichiers CSV:  49%|████▊     | 73/150 [2:46:50<3:05:27, 144.51s/fichier]"
     ]
    },
    {
     "name": "stdout",
     "output_type": "stream",
     "text": [
      "33_04066.csv\n"
     ]
    },
    {
     "name": "stderr",
     "output_type": "stream",
     "text": [
      "Traitement des fichiers CSV:  49%|████▉     | 74/150 [2:53:20<4:36:26, 218.25s/fichier]"
     ]
    },
    {
     "name": "stdout",
     "output_type": "stream",
     "text": [
      "5_040610.csv\n"
     ]
    },
    {
     "name": "stderr",
     "output_type": "stream",
     "text": [
      "Traitement des fichiers CSV:  50%|█████     | 75/150 [2:53:52<3:22:52, 162.30s/fichier]"
     ]
    },
    {
     "name": "stdout",
     "output_type": "stream",
     "text": [
      "5_02083.csv\n"
     ]
    },
    {
     "name": "stderr",
     "output_type": "stream",
     "text": [
      "Traitement des fichiers CSV:  51%|█████     | 76/150 [2:54:23<2:31:46, 123.06s/fichier]"
     ]
    },
    {
     "name": "stdout",
     "output_type": "stream",
     "text": [
      "3_02082.csv\n"
     ]
    },
    {
     "name": "stderr",
     "output_type": "stream",
     "text": [
      "Traitement des fichiers CSV:  51%|█████▏    | 77/150 [2:54:42<1:51:36, 91.73s/fichier] "
     ]
    },
    {
     "name": "stdout",
     "output_type": "stream",
     "text": [
      "5_04066.csv\n"
     ]
    },
    {
     "name": "stderr",
     "output_type": "stream",
     "text": [
      "Traitement des fichiers CSV:  52%|█████▏    | 78/150 [2:55:12<1:28:03, 73.38s/fichier]"
     ]
    },
    {
     "name": "stdout",
     "output_type": "stream",
     "text": [
      "3_0110.csv\n"
     ]
    },
    {
     "name": "stderr",
     "output_type": "stream",
     "text": [
      "Traitement des fichiers CSV:  53%|█████▎    | 79/150 [2:55:31<1:07:20, 56.91s/fichier]"
     ]
    },
    {
     "name": "stdout",
     "output_type": "stream",
     "text": [
      "33_02085.csv\n"
     ]
    },
    {
     "name": "stderr",
     "output_type": "stream",
     "text": [
      "Traitement des fichiers CSV:  53%|█████▎    | 80/150 [3:01:58<3:01:45, 155.80s/fichier]"
     ]
    },
    {
     "name": "stdout",
     "output_type": "stream",
     "text": [
      "33_02084.csv\n"
     ]
    },
    {
     "name": "stderr",
     "output_type": "stream",
     "text": [
      "Traitement des fichiers CSV:  54%|█████▍    | 81/150 [3:08:28<4:20:08, 226.20s/fichier]"
     ]
    },
    {
     "name": "stdout",
     "output_type": "stream",
     "text": [
      "33_04061.csv\n"
     ]
    },
    {
     "name": "stderr",
     "output_type": "stream",
     "text": [
      "Traitement des fichiers CSV:  55%|█████▍    | 82/150 [3:14:58<5:11:58, 275.28s/fichier]"
     ]
    },
    {
     "name": "stdout",
     "output_type": "stream",
     "text": [
      "17_04061.csv\n"
     ]
    },
    {
     "name": "stderr",
     "output_type": "stream",
     "text": [
      "Traitement des fichiers CSV:  55%|█████▌    | 83/150 [3:17:17<4:21:53, 234.53s/fichier]"
     ]
    },
    {
     "name": "stdout",
     "output_type": "stream",
     "text": [
      "33_02083.csv\n"
     ]
    },
    {
     "name": "stderr",
     "output_type": "stream",
     "text": [
      "Traitement des fichiers CSV:  56%|█████▌    | 84/150 [3:23:46<5:09:00, 280.92s/fichier]"
     ]
    },
    {
     "name": "stdout",
     "output_type": "stream",
     "text": [
      "5_02082.csv\n"
     ]
    },
    {
     "name": "stderr",
     "output_type": "stream",
     "text": [
      "Traitement des fichiers CSV:  57%|█████▋    | 85/150 [3:24:18<3:43:16, 206.10s/fichier]"
     ]
    },
    {
     "name": "stdout",
     "output_type": "stream",
     "text": [
      "9_04069.csv\n"
     ]
    },
    {
     "name": "stderr",
     "output_type": "stream",
     "text": [
      "Traitement des fichiers CSV:  57%|█████▋    | 86/150 [3:25:21<2:54:08, 163.25s/fichier]"
     ]
    },
    {
     "name": "stdout",
     "output_type": "stream",
     "text": [
      "17_04065.csv\n"
     ]
    },
    {
     "name": "stderr",
     "output_type": "stream",
     "text": [
      "Traitement des fichiers CSV:  58%|█████▊    | 87/150 [3:27:40<2:43:34, 155.79s/fichier]"
     ]
    },
    {
     "name": "stdout",
     "output_type": "stream",
     "text": [
      "17_0110.csv\n"
     ]
    },
    {
     "name": "stderr",
     "output_type": "stream",
     "text": [
      "Traitement des fichiers CSV:  59%|█████▊    | 88/150 [3:30:05<2:37:38, 152.56s/fichier]"
     ]
    },
    {
     "name": "stdout",
     "output_type": "stream",
     "text": [
      "5_017.csv\n"
     ]
    },
    {
     "name": "stderr",
     "output_type": "stream",
     "text": [
      "Traitement des fichiers CSV:  59%|█████▉    | 89/150 [3:30:37<1:58:32, 116.60s/fichier]"
     ]
    },
    {
     "name": "stdout",
     "output_type": "stream",
     "text": [
      "3_02088.csv\n"
     ]
    },
    {
     "name": "stderr",
     "output_type": "stream",
     "text": [
      "Traitement des fichiers CSV:  60%|██████    | 90/150 [3:30:57<1:27:28, 87.47s/fichier] "
     ]
    },
    {
     "name": "stdout",
     "output_type": "stream",
     "text": [
      "5_04061.csv\n"
     ]
    },
    {
     "name": "stderr",
     "output_type": "stream",
     "text": [
      "Traitement des fichiers CSV:  61%|██████    | 91/150 [3:31:29<1:09:36, 70.79s/fichier]"
     ]
    },
    {
     "name": "stdout",
     "output_type": "stream",
     "text": [
      "9_018.csv\n"
     ]
    },
    {
     "name": "stderr",
     "output_type": "stream",
     "text": [
      "Traitement des fichiers CSV:  61%|██████▏   | 92/150 [3:32:33<1:06:25, 68.72s/fichier]"
     ]
    },
    {
     "name": "stdout",
     "output_type": "stream",
     "text": [
      "17_04067.csv\n"
     ]
    },
    {
     "name": "stderr",
     "output_type": "stream",
     "text": [
      "Traitement des fichiers CSV:  62%|██████▏   | 93/150 [3:34:54<1:25:58, 90.49s/fichier]"
     ]
    },
    {
     "name": "stdout",
     "output_type": "stream",
     "text": [
      "9_040610.csv\n"
     ]
    },
    {
     "name": "stderr",
     "output_type": "stream",
     "text": [
      "Traitement des fichiers CSV:  63%|██████▎   | 94/150 [3:35:59<1:17:19, 82.85s/fichier]"
     ]
    },
    {
     "name": "stdout",
     "output_type": "stream",
     "text": [
      "5_012.csv\n"
     ]
    },
    {
     "name": "stderr",
     "output_type": "stream",
     "text": [
      "Traitement des fichiers CSV:  63%|██████▎   | 95/150 [3:36:31<1:01:55, 67.55s/fichier]"
     ]
    },
    {
     "name": "stdout",
     "output_type": "stream",
     "text": [
      "17_02083.csv\n"
     ]
    },
    {
     "name": "stderr",
     "output_type": "stream",
     "text": [
      "Traitement des fichiers CSV:  64%|██████▍   | 96/150 [3:38:51<1:20:33, 89.50s/fichier]"
     ]
    },
    {
     "name": "stdout",
     "output_type": "stream",
     "text": [
      "5_04068.csv\n"
     ]
    },
    {
     "name": "stderr",
     "output_type": "stream",
     "text": [
      "Traitement des fichiers CSV:  65%|██████▍   | 97/150 [3:39:23<1:03:45, 72.18s/fichier]"
     ]
    },
    {
     "name": "stdout",
     "output_type": "stream",
     "text": [
      "3_04064.csv\n"
     ]
    },
    {
     "name": "stderr",
     "output_type": "stream",
     "text": [
      "Traitement des fichiers CSV:  65%|██████▌   | 98/150 [3:39:42<48:36, 56.08s/fichier]  "
     ]
    },
    {
     "name": "stdout",
     "output_type": "stream",
     "text": [
      "9_015.csv\n"
     ]
    },
    {
     "name": "stderr",
     "output_type": "stream",
     "text": [
      "Traitement des fichiers CSV:  66%|██████▌   | 99/150 [3:40:47<49:59, 58.82s/fichier]"
     ]
    },
    {
     "name": "stdout",
     "output_type": "stream",
     "text": [
      "17_02088.csv\n"
     ]
    },
    {
     "name": "stderr",
     "output_type": "stream",
     "text": [
      "Traitement des fichiers CSV:  67%|██████▋   | 100/150 [3:43:10<1:10:05, 84.10s/fichier]"
     ]
    },
    {
     "name": "stdout",
     "output_type": "stream",
     "text": [
      "9_04064.csv\n"
     ]
    },
    {
     "name": "stderr",
     "output_type": "stream",
     "text": [
      "Traitement des fichiers CSV:  67%|██████▋   | 101/150 [3:44:15<1:04:03, 78.45s/fichier]"
     ]
    },
    {
     "name": "stdout",
     "output_type": "stream",
     "text": [
      "9_04066.csv\n"
     ]
    },
    {
     "name": "stderr",
     "output_type": "stream",
     "text": [
      "Traitement des fichiers CSV:  68%|██████▊   | 102/150 [3:45:14<58:02, 72.56s/fichier]  "
     ]
    },
    {
     "name": "stdout",
     "output_type": "stream",
     "text": [
      "3_04061.csv\n"
     ]
    },
    {
     "name": "stderr",
     "output_type": "stream",
     "text": [
      "Traitement des fichiers CSV:  69%|██████▊   | 103/150 [3:45:32<44:00, 56.19s/fichier]"
     ]
    },
    {
     "name": "stdout",
     "output_type": "stream",
     "text": [
      "3_013.csv\n"
     ]
    },
    {
     "name": "stderr",
     "output_type": "stream",
     "text": [
      "Traitement des fichiers CSV:  69%|██████▉   | 104/150 [3:45:51<34:27, 44.94s/fichier]"
     ]
    },
    {
     "name": "stdout",
     "output_type": "stream",
     "text": [
      "3_04062.csv\n"
     ]
    },
    {
     "name": "stderr",
     "output_type": "stream",
     "text": [
      "Traitement des fichiers CSV:  70%|███████   | 105/150 [3:46:09<27:35, 36.80s/fichier]"
     ]
    },
    {
     "name": "stdout",
     "output_type": "stream",
     "text": [
      "17_04063.csv\n"
     ]
    },
    {
     "name": "stderr",
     "output_type": "stream",
     "text": [
      "Traitement des fichiers CSV:  71%|███████   | 106/150 [3:48:28<49:30, 67.50s/fichier]"
     ]
    },
    {
     "name": "stdout",
     "output_type": "stream",
     "text": [
      "5_014.csv\n"
     ]
    },
    {
     "name": "stderr",
     "output_type": "stream",
     "text": [
      "Traitement des fichiers CSV:  71%|███████▏  | 107/150 [3:49:01<41:05, 57.34s/fichier]"
     ]
    },
    {
     "name": "stdout",
     "output_type": "stream",
     "text": [
      "17_04064.csv\n"
     ]
    },
    {
     "name": "stderr",
     "output_type": "stream",
     "text": [
      "Traitement des fichiers CSV:  72%|███████▏  | 108/150 [3:51:25<58:20, 83.34s/fichier]"
     ]
    },
    {
     "name": "stdout",
     "output_type": "stream",
     "text": [
      "9_02088.csv\n"
     ]
    },
    {
     "name": "stderr",
     "output_type": "stream",
     "text": [
      "Traitement des fichiers CSV:  73%|███████▎  | 109/150 [3:52:26<52:15, 76.47s/fichier]"
     ]
    },
    {
     "name": "stdout",
     "output_type": "stream",
     "text": [
      "3_018.csv\n"
     ]
    },
    {
     "name": "stderr",
     "output_type": "stream",
     "text": [
      "Traitement des fichiers CSV:  73%|███████▎  | 110/150 [3:52:45<39:33, 59.33s/fichier]"
     ]
    },
    {
     "name": "stdout",
     "output_type": "stream",
     "text": [
      "17_02082.csv\n"
     ]
    },
    {
     "name": "stderr",
     "output_type": "stream",
     "text": [
      "Traitement des fichiers CSV:  74%|███████▍  | 111/150 [3:55:10<55:16, 85.04s/fichier]"
     ]
    },
    {
     "name": "stdout",
     "output_type": "stream",
     "text": [
      "33_02086.csv\n"
     ]
    },
    {
     "name": "stderr",
     "output_type": "stream",
     "text": [
      "Traitement des fichiers CSV:  75%|███████▍  | 112/150 [4:01:43<1:52:25, 177.50s/fichier]"
     ]
    },
    {
     "name": "stdout",
     "output_type": "stream",
     "text": [
      "3_04067.csv\n"
     ]
    },
    {
     "name": "stderr",
     "output_type": "stream",
     "text": [
      "Traitement des fichiers CSV:  75%|███████▌  | 113/150 [4:02:02<1:20:04, 129.84s/fichier]"
     ]
    },
    {
     "name": "stdout",
     "output_type": "stream",
     "text": [
      "17_04069.csv\n"
     ]
    },
    {
     "name": "stderr",
     "output_type": "stream",
     "text": [
      "Traitement des fichiers CSV:  76%|███████▌  | 114/150 [4:04:21<1:19:30, 132.51s/fichier]"
     ]
    },
    {
     "name": "stdout",
     "output_type": "stream",
     "text": [
      "9_04063.csv\n"
     ]
    },
    {
     "name": "stderr",
     "output_type": "stream",
     "text": [
      "Traitement des fichiers CSV:  77%|███████▋  | 115/150 [4:05:23<1:05:01, 111.48s/fichier]"
     ]
    },
    {
     "name": "stdout",
     "output_type": "stream",
     "text": [
      "9_02086.csv\n"
     ]
    },
    {
     "name": "stderr",
     "output_type": "stream",
     "text": [
      "Traitement des fichiers CSV:  77%|███████▋  | 116/150 [4:06:23<54:25, 96.06s/fichier]   "
     ]
    },
    {
     "name": "stdout",
     "output_type": "stream",
     "text": [
      "5_02087.csv\n"
     ]
    },
    {
     "name": "stderr",
     "output_type": "stream",
     "text": [
      "Traitement des fichiers CSV:  78%|███████▊  | 117/150 [4:06:54<42:01, 76.40s/fichier]"
     ]
    },
    {
     "name": "stdout",
     "output_type": "stream",
     "text": [
      "9_016.csv\n"
     ]
    },
    {
     "name": "stderr",
     "output_type": "stream",
     "text": [
      "Traitement des fichiers CSV:  79%|███████▊  | 118/150 [4:07:57<38:42, 72.57s/fichier]"
     ]
    },
    {
     "name": "stdout",
     "output_type": "stream",
     "text": [
      "17_016.csv\n"
     ]
    },
    {
     "name": "stderr",
     "output_type": "stream",
     "text": [
      "Traitement des fichiers CSV:  79%|███████▉  | 119/150 [4:10:29<49:40, 96.14s/fichier]"
     ]
    },
    {
     "name": "stdout",
     "output_type": "stream",
     "text": [
      "33_02082.csv\n"
     ]
    },
    {
     "name": "stderr",
     "output_type": "stream",
     "text": [
      "Traitement des fichiers CSV:  80%|████████  | 120/150 [4:17:00<1:32:23, 184.79s/fichier]"
     ]
    },
    {
     "name": "stdout",
     "output_type": "stream",
     "text": [
      "33_018.csv\n"
     ]
    },
    {
     "name": "stderr",
     "output_type": "stream",
     "text": [
      "Traitement des fichiers CSV:  81%|████████  | 121/150 [4:24:06<2:04:16, 257.11s/fichier]"
     ]
    },
    {
     "name": "stdout",
     "output_type": "stream",
     "text": [
      "33_0110.csv\n"
     ]
    },
    {
     "name": "stderr",
     "output_type": "stream",
     "text": [
      "Traitement des fichiers CSV:  81%|████████▏ | 122/150 [4:31:13<2:23:45, 308.04s/fichier]"
     ]
    },
    {
     "name": "stdout",
     "output_type": "stream",
     "text": [
      "17_015.csv\n"
     ]
    },
    {
     "name": "stderr",
     "output_type": "stream",
     "text": [
      "Traitement des fichiers CSV:  83%|████████▎ | 124/150 [4:34:14<1:23:08, 191.88s/fichier]"
     ]
    },
    {
     "name": "stdout",
     "output_type": "stream",
     "text": [
      "5_04069.csv\n"
     ]
    },
    {
     "name": "stderr",
     "output_type": "stream",
     "text": [
      "Traitement des fichiers CSV:  83%|████████▎ | 125/150 [4:34:47<1:00:02, 144.12s/fichier]"
     ]
    },
    {
     "name": "stdout",
     "output_type": "stream",
     "text": [
      "9_02089.csv\n"
     ]
    },
    {
     "name": "stderr",
     "output_type": "stream",
     "text": [
      "Traitement des fichiers CSV:  84%|████████▍ | 126/150 [4:35:47<47:31, 118.83s/fichier]  "
     ]
    },
    {
     "name": "stdout",
     "output_type": "stream",
     "text": [
      "5_04064.csv\n"
     ]
    },
    {
     "name": "stderr",
     "output_type": "stream",
     "text": [
      "Traitement des fichiers CSV:  85%|████████▍ | 127/150 [4:36:17<35:20, 92.19s/fichier] "
     ]
    },
    {
     "name": "stdout",
     "output_type": "stream",
     "text": [
      "3_04063.csv\n"
     ]
    },
    {
     "name": "stderr",
     "output_type": "stream",
     "text": [
      "Traitement des fichiers CSV:  85%|████████▌ | 128/150 [4:36:36<25:48, 70.37s/fichier]"
     ]
    },
    {
     "name": "stdout",
     "output_type": "stream",
     "text": [
      "3_04066.csv\n"
     ]
    },
    {
     "name": "stderr",
     "output_type": "stream",
     "text": [
      "Traitement des fichiers CSV:  86%|████████▌ | 129/150 [4:36:55<19:13, 54.93s/fichier]"
     ]
    },
    {
     "name": "stdout",
     "output_type": "stream",
     "text": [
      "3_02086.csv\n"
     ]
    },
    {
     "name": "stderr",
     "output_type": "stream",
     "text": [
      "Traitement des fichiers CSV:  87%|████████▋ | 130/150 [4:37:14<14:38, 43.94s/fichier]"
     ]
    },
    {
     "name": "stdout",
     "output_type": "stream",
     "text": [
      "17_04068.csv\n"
     ]
    },
    {
     "name": "stderr",
     "output_type": "stream",
     "text": [
      "Traitement des fichiers CSV:  87%|████████▋ | 131/150 [4:39:34<23:06, 72.95s/fichier]"
     ]
    },
    {
     "name": "stdout",
     "output_type": "stream",
     "text": [
      "9_02081.csv\n"
     ]
    },
    {
     "name": "stderr",
     "output_type": "stream",
     "text": [
      "Traitement des fichiers CSV:  88%|████████▊ | 132/150 [4:40:36<20:51, 69.54s/fichier]"
     ]
    },
    {
     "name": "stdout",
     "output_type": "stream",
     "text": [
      "33_040610.csv\n"
     ]
    },
    {
     "name": "stderr",
     "output_type": "stream",
     "text": [
      "Traitement des fichiers CSV:  89%|████████▊ | 133/150 [4:47:07<47:02, 166.04s/fichier]"
     ]
    },
    {
     "name": "stdout",
     "output_type": "stream",
     "text": [
      "17_02084.csv\n"
     ]
    },
    {
     "name": "stderr",
     "output_type": "stream",
     "text": [
      "Traitement des fichiers CSV:  89%|████████▉ | 134/150 [4:49:30<42:26, 159.15s/fichier]"
     ]
    },
    {
     "name": "stdout",
     "output_type": "stream",
     "text": [
      "5_02089.csv\n"
     ]
    },
    {
     "name": "stderr",
     "output_type": "stream",
     "text": [
      "Traitement des fichiers CSV:  90%|█████████ | 135/150 [4:50:03<30:19, 121.27s/fichier]"
     ]
    },
    {
     "name": "stdout",
     "output_type": "stream",
     "text": [
      "3_02085.csv\n"
     ]
    },
    {
     "name": "stderr",
     "output_type": "stream",
     "text": [
      "Traitement des fichiers CSV:  91%|█████████ | 136/150 [4:50:21<21:05, 90.39s/fichier] "
     ]
    },
    {
     "name": "stdout",
     "output_type": "stream",
     "text": [
      "17_020810.csv\n"
     ]
    },
    {
     "name": "stderr",
     "output_type": "stream",
     "text": [
      "Traitement des fichiers CSV:  91%|█████████▏| 137/150 [4:52:41<22:48, 105.24s/fichier]"
     ]
    },
    {
     "name": "stdout",
     "output_type": "stream",
     "text": [
      "17_011.csv\n"
     ]
    },
    {
     "name": "stderr",
     "output_type": "stream",
     "text": [
      "Traitement des fichiers CSV:  92%|█████████▏| 138/150 [4:55:11<23:42, 118.52s/fichier]"
     ]
    },
    {
     "name": "stdout",
     "output_type": "stream",
     "text": [
      "3_02083.csv\n"
     ]
    },
    {
     "name": "stderr",
     "output_type": "stream",
     "text": [
      "Traitement des fichiers CSV:  93%|█████████▎| 139/150 [4:55:30<16:15, 88.73s/fichier] "
     ]
    },
    {
     "name": "stdout",
     "output_type": "stream",
     "text": [
      "5_015.csv\n"
     ]
    },
    {
     "name": "stderr",
     "output_type": "stream",
     "text": [
      "Traitement des fichiers CSV:  93%|█████████▎| 140/150 [4:56:02<11:57, 71.76s/fichier]"
     ]
    },
    {
     "name": "stdout",
     "output_type": "stream",
     "text": [
      "5_02084.csv\n"
     ]
    },
    {
     "name": "stderr",
     "output_type": "stream",
     "text": [
      "Traitement des fichiers CSV:  94%|█████████▍| 141/150 [4:56:33<08:56, 59.57s/fichier]"
     ]
    },
    {
     "name": "stdout",
     "output_type": "stream",
     "text": [
      "3_02081.csv\n"
     ]
    },
    {
     "name": "stderr",
     "output_type": "stream",
     "text": [
      "Traitement des fichiers CSV:  95%|█████████▍| 142/150 [4:56:52<06:18, 47.25s/fichier]"
     ]
    },
    {
     "name": "stdout",
     "output_type": "stream",
     "text": [
      "17_018.csv\n"
     ]
    },
    {
     "name": "stderr",
     "output_type": "stream",
     "text": [
      "Traitement des fichiers CSV:  95%|█████████▌| 143/150 [4:59:24<09:10, 78.68s/fichier]"
     ]
    },
    {
     "name": "stdout",
     "output_type": "stream",
     "text": [
      "33_011.csv\n"
     ]
    },
    {
     "name": "stderr",
     "output_type": "stream",
     "text": [
      "Traitement des fichiers CSV:  96%|█████████▌| 144/150 [5:06:32<18:21, 183.62s/fichier]"
     ]
    },
    {
     "name": "stdout",
     "output_type": "stream",
     "text": [
      "9_013.csv\n"
     ]
    },
    {
     "name": "stderr",
     "output_type": "stream",
     "text": [
      "Traitement des fichiers CSV:  97%|█████████▋| 145/150 [5:07:40<12:23, 148.75s/fichier]"
     ]
    },
    {
     "name": "stdout",
     "output_type": "stream",
     "text": [
      "5_02081.csv\n"
     ]
    },
    {
     "name": "stderr",
     "output_type": "stream",
     "text": [
      "Traitement des fichiers CSV:  97%|█████████▋| 146/150 [5:08:12<07:35, 113.81s/fichier]"
     ]
    },
    {
     "name": "stdout",
     "output_type": "stream",
     "text": [
      "33_02087.csv\n"
     ]
    },
    {
     "name": "stderr",
     "output_type": "stream",
     "text": [
      "Traitement des fichiers CSV:  98%|█████████▊| 147/150 [5:14:47<09:54, 198.20s/fichier]"
     ]
    },
    {
     "name": "stdout",
     "output_type": "stream",
     "text": [
      "5_02088.csv\n"
     ]
    },
    {
     "name": "stderr",
     "output_type": "stream",
     "text": [
      "Traitement des fichiers CSV:  99%|█████████▊| 148/150 [5:15:18<04:56, 148.09s/fichier]"
     ]
    },
    {
     "name": "stdout",
     "output_type": "stream",
     "text": [
      "33_04064.csv\n"
     ]
    },
    {
     "name": "stderr",
     "output_type": "stream",
     "text": [
      "Traitement des fichiers CSV:  99%|█████████▉| 149/150 [5:21:55<03:42, 222.67s/fichier]"
     ]
    },
    {
     "name": "stdout",
     "output_type": "stream",
     "text": [
      "33_015.csv\n"
     ]
    },
    {
     "name": "stderr",
     "output_type": "stream",
     "text": [
      "Traitement des fichiers CSV: 100%|██████████| 150/150 [5:28:56<00:00, 131.58s/fichier]\n"
     ]
    }
   ],
   "source": [
    "dict_rmse_1={'S_learner_XGB' : [], 'T_learner_XGB' : [], 'Baseline average' : [], 'Politique optimale' : []}\n",
    "\n",
    "dict_rmse_2={'S_learner_XGB' : [], 'T_learner_XGB' : [], 'Baseline average' : [], 'Politique optimale' : []}\n",
    "\n",
    "dict_expected={'S_learner_XGB' : [],'T_learner_XGB' : [], 'Baseline average' : [], 'Politique optimale' : []}\n",
    "\n",
    "EXPECTED_S_XGB= {}\n",
    "\n",
    "EXPECTED_T_XGB= {}\n",
    "\n",
    "@ray.remote\n",
    "class ResultActor:\n",
    "    def __init__(self):\n",
    "        self.data = {}\n",
    "\n",
    "    def update(self, percent, value):\n",
    "        self.data[percent] = value\n",
    "\n",
    "    def get_data(self):\n",
    "        return self.data\n",
    "\n",
    "\n",
    "@ray.remote\n",
    "class SharedState:\n",
    "    def __init__(self):\n",
    "        self.expected_s_xgb = {}\n",
    "        self.expected_t_xgb = {}\n",
    "        self.EXPECTED_TRUE= {}\n",
    "        self.EXPECTED_random= {}\n",
    "        self.EXPECTED_optimal= {}\n",
    "        self.EXPECTED_zero= {}\n",
    "        self.EXPECTED_average= {}\n",
    "        self.nb_bons_t_S= {}\n",
    "        self.nb_bons_t_T= {}\n",
    "        self.nb_bons_t_true= {}\n",
    "        self.nb_bons_t_random= {}\n",
    "        self.nb_bons_t_average= {}\n",
    "        self.rmse_1_S = {}\n",
    "        self.rmse_1_T = {}\n",
    "        \n",
    "    def update(self, percent, s_value, t_value,expected_true,expected_random,expected_optimal,expected_zero,expected_average,rmse_1_S,rmse_1_T):\n",
    "        self.expected_s_xgb[percent] = s_value\n",
    "        self.expected_t_xgb[percent] = t_value\n",
    "        self.EXPECTED_TRUE[percent] = expected_true\n",
    "        self.EXPECTED_random[percent] = expected_random\n",
    "        self.EXPECTED_optimal[percent] = expected_optimal\n",
    "        self.EXPECTED_zero[percent] = expected_zero\n",
    "        self.EXPECTED_average[percent] = expected_average\n",
    "        #self.nb_bons_t_S[percent] = nb_bons_t_S\n",
    "        #self.nb_bons_t_T[percent] = nb_bons_t_T\n",
    "        #self.nb_bons_t_true[percent] = nb_bons_t_true\n",
    "        #self.nb_bons_t_random[percent] = nb_bons_t_random\n",
    "        #self.nb_bons_t_average[percent] = nb_bons_t_average\n",
    "        self.rmse_1_S[percent] = rmse_1_S\n",
    "        self.rmse_1_T[percent] = rmse_1_T\n",
    "\n",
    "    def get_expected_s_xgb(self):\n",
    "        return self.expected_s_xgb\n",
    "\n",
    "    def get_expected_t_xgb(self):\n",
    "        return self.expected_t_xgb\n",
    "\n",
    "    def get_expected_true(self):\n",
    "        return self.EXPECTED_TRUE\n",
    "\n",
    "    def get_expected_random(self):\n",
    "        return self.EXPECTED_random\n",
    "\n",
    "    def get_expected_opti(self):\n",
    "        return self.EXPECTED_optimal\n",
    "\n",
    "    def get_expected_zero(self):\n",
    "        return self.EXPECTED_zero\n",
    "\n",
    "    def get_expected_average(self):\n",
    "        return self.EXPECTED_average\n",
    "\n",
    "    def get_nb_bon_t_S(self):\n",
    "        return self.nb_bons_t_S\n",
    "\n",
    "    def get_nb_bon_t_T(self):\n",
    "        return self.nb_bons_t_T\n",
    "\n",
    "    def get_nb_bon_t_true(self):\n",
    "        return self.nb_bons_t_true\n",
    "\n",
    "    def get_nb_bon_t_random(self):\n",
    "        return self.nb_bons_t_random\n",
    "\n",
    "    def get_nb_bon_t_average(self):\n",
    "        return self.nb_bons_t_average\n",
    "        \n",
    "    def get_rmse_S(self):\n",
    "        return self.rmse_1_S\n",
    "\n",
    "    def get_rmse_T(self):\n",
    "        return self.rmse_1_T\n",
    "\n",
    "\n",
    "@ray.remote\n",
    "def iteration(data,percent,shared_state_actor,decoupage=4,nb_per_t=1000,NRA='NRA',valeur_min_int=1,valeur_max_int = 4,nb_inter = 8,X1='X1',X2='X2'):\n",
    "    #data = ray.get(data_ref)\n",
    "\n",
    "    start_time = time.time()\n",
    "   \n",
    "    nombre_valeurs_uniques_T = data['T'].nunique()\n",
    "    df_grand = pd.DataFrame()\n",
    "    seed=42\n",
    "    random.seed(seed)\n",
    "    for i in range(nombre_valeurs_uniques_T):\n",
    "        motif_random = generer_motif_random(valeur_min_int, valeur_max_int, nb_inter)\n",
    "        motif = motif_to_int(motif_random,decoupage=decoupage)\n",
    "        dataset_T = data[data['T'] == i]\n",
    "        #dataset_T[NRA] = 0\n",
    "        dataset_T.loc[:, NRA] = 0\n",
    "        for index, row in dataset_T.iterrows():\n",
    "            for i in motif:\n",
    "                if (i[0][0] <= row[X1] <= i[0][1]) & (i[1][0] <= row[X2] <= i[1][1]):\n",
    "                    #dataset_T.at[index, NRA] = 1\n",
    "                    dataset_T.loc[index, NRA] = 1\n",
    "        data1 = dataset_T.head(nb_per_t)\n",
    "        data1 = drop_nra(data1,k=percent,NRA='NRA')\n",
    "        data2 = dataset_T.iloc[nb_per_t:]\n",
    "        data_NRA_0 = data2[data2['NRA'] == 0]\n",
    "        data_remplace = data_NRA_0.head(int(nb_per_t - len(data1)))\n",
    "        data_percent_NRA = pd.concat([data1, data_remplace], ignore_index=True)\n",
    "        df_grand = pd.concat([df_grand, data_percent_NRA], ignore_index=True)\n",
    "    \n",
    "    del data1, data2, data_NRA_0, data_remplace, data_percent_NRA\n",
    "    gc.collect()\n",
    "    \n",
    "    colonnes_a_conserver = ['X1', 'X2', 'T']\n",
    "    X_train = df_grand[colonnes_a_conserver]\n",
    "    colonnes_a_conserver = ['X1', 'X2', 'T', 'Y']\n",
    "    X_train_t = df_grand[colonnes_a_conserver]\n",
    "    colonnes_a_conserver = ['X1', 'X2', 'T']\n",
    "    X_test = data[colonnes_a_conserver]\n",
    "    X_test = X_test.drop(X_train.index)\n",
    "    colonnes_a_conserver = ['Y']\n",
    "    y_train = df_grand[colonnes_a_conserver]\n",
    "    #train_final_filtered = df_grand.loc[:, ['X1', 'X2', 'T', 'Y']]\n",
    "    colonnes_a_conserver = ['X1', 'X2', 'T', 'Y']\n",
    "    X_test_t = data[colonnes_a_conserver]\n",
    "    X_test_t = X_test_t.drop(X_train.index)\n",
    "    test_all = data.copy()\n",
    "    test_all = test_all.drop(X_train.index)\n",
    "    random_uplift = expected_to_uplift(random_expected_outcome(X_test_t, 'T'))\n",
    "    random_policy = uplift_to_policy(random_uplift)\n",
    "\n",
    "    data_test_t=data.copy()\n",
    "    column_names = data_test_t.columns.tolist()\n",
    "    data_test_t['policy'] = data_test_t.apply(determine_value, axis=1)\n",
    "    tau_optimal_dict = {}\n",
    "    #colonnes_E_y = [col for col in RMSE_test.columns if col.startswith('E_y|T') and not col.endswith('no_rand')]\n",
    "\n",
    "    #optimal_policy = colonnes_max.apply(lambda x: int(x.split('_')[1]))\n",
    "    optimal_policy = data_test_t['policy']\n",
    "    data_test_t['worst_policy'] = data_test_t.apply(determine_value_2, axis=1)\n",
    "    worst_policy = data_test_t['worst_policy'].to_numpy()\n",
    "    zero_policy=[0]*len(random_policy)\n",
    "    #Average uplift\n",
    "    model_average = MeanPredictor()\n",
    "    model_average.fit(X_train_t)\n",
    "    uplift_average = model_average.predict_uplift(X_test)\n",
    "    predict_policy_average=model_average.predict_policy(X_test)\n",
    "\n",
    "    end_time = time.time()\n",
    "    elapsed_time = end_time - start_time\n",
    "\n",
    "    start_time = time.time()\n",
    "    \n",
    "    #S learner (XGB)\n",
    "\n",
    "    s_learner_model_XGB  = S_Learner(xgb.XGBClassifier(random_state=42))\n",
    "    s_learner_model_XGB.fit(X_train, y_train,'T')\n",
    "    uplift_S_learner_XGB = s_learner_model_XGB .predict_uplift(X_test)\n",
    "    predict_policy_S_learner_XGB = s_learner_model_XGB.predict_policy(X_test)\n",
    "    predict_worst_policy_S_learner_XGB = s_learner_model_XGB .predict_worst_policy(X_test)\n",
    "\n",
    "    end_time = time.time()\n",
    "    elapsed_time = end_time - start_time\n",
    "    start_time = time.time()\n",
    "    \n",
    "    #T learner (XGB)\n",
    "\n",
    "    t_learner_model_XGB = T_Learner(xgb.XGBClassifier(random_state=42))\n",
    "    t_learner_model_XGB.fit(X_train_t,'T','Y')\n",
    "    uplift_T_learner_XGB = t_learner_model_XGB.predict_uplift(X_test)\n",
    "    predict_policy_T_learner_XGB = t_learner_model_XGB.predict_policy(X_test)\n",
    "    predict_worst_policy_T_learner_XGB = t_learner_model_XGB .predict_worst_policy(X_test)\n",
    "\n",
    "    end_time = time.time()\n",
    "    elapsed_time = end_time - start_time\n",
    "    start_time = time.time()\n",
    "    \n",
    "    expected_outcome_S_learner_XGB=expected_outcome(X_test_t,'T','Y',policy=predict_policy_S_learner_XGB)\n",
    "    expected_outcome_T_learner_XGB=expected_outcome(X_test_t,'T','Y',policy=predict_policy_T_learner_XGB)\n",
    "    expected_outcome_true_policy=expected_outcome(X=X_test_t,traitement = 'T',outcome = 'Y')\n",
    "    expected_outcome_random_policy=expected_outcome(X=X_test_t,traitement = 'T',outcome = 'Y',policy=random_policy)\n",
    "    expected_outcome_optimal=expected_outcome(X=X_test_t,traitement = 'T',outcome = 'Y',policy=optimal_policy)\n",
    "    expected_outcome_zero_policy=expected_outcome(X_test_t,'T','Y',policy=zero_policy)\n",
    "    expected_outcome_average=expected_outcome(X_test_t,'T','Y',policy=predict_policy_average)\n",
    "\n",
    "    politiques = ['S-Learner_XGB'\n",
    "                'T-Learner_XGB', \n",
    "                'True Policy', 'Random Policy', 'Optimal Policy','Zero policy', 'S_Learner MLP2','Baseline average']\n",
    "\n",
    "    values = [expected_outcome_S_learner_XGB, \n",
    "             expected_outcome_T_learner_XGB,  \n",
    "            expected_outcome_true_policy, expected_outcome_random_policy,expected_outcome_optimal,expected_outcome_zero_policy,expected_outcome_average]\n",
    "\n",
    "    politiques, values = zip(*sorted(zip(politiques, values), key=lambda x: x[1], reverse=False))\n",
    "\n",
    "    bar_width = 0.5\n",
    "    bar_positions = np.arange(len(politiques))\n",
    "    brilliant_color = (1.0, 0.8, 0.0)\n",
    "\n",
    "    tau_1_0 = test_all['tau_1_0'].values\n",
    "    tau_2_0 = test_all['tau_2_0'].values\n",
    "\n",
    "    tau_columns = [col for col in test_all.columns if col.startswith('tau_')]\n",
    "    num_tau_columns = len(tau_columns)\n",
    "    rmse_list = []\n",
    "    for i, tau_col in enumerate(tau_columns):\n",
    "        true_values = test_all[tau_col].values\n",
    "        \n",
    "        pred_value = [sublist[i] for sublist in uplift_S_learner_XGB]\n",
    "        rmse = calculate_rmse(true_values, pred_value)\n",
    "        rmse_list.append(rmse)\n",
    "\n",
    "    # Calculer la RMSE moyenne\n",
    "    average_rmse = np.mean(rmse_list)\n",
    "    tau_1_0_S_learner_XGB = [item[0] for item in uplift_S_learner_XGB]\n",
    "    tau_2_0_S_learner_XGB = [item[1] for item in uplift_S_learner_XGB]\n",
    "    rmse_tau_1_0_S_learner_XGB = average_rmse\n",
    "    rmse_tau_2_0_S_learner_XGB = np.sqrt(mean_squared_error(tau_2_0, tau_2_0_S_learner_XGB))\n",
    "\n",
    "    rmse_list = []\n",
    "    for i, tau_col in enumerate(tau_columns):\n",
    "        true_values = test_all[tau_col].values\n",
    "        \n",
    "        pred_value = [sublist[i] for sublist in uplift_T_learner_XGB]\n",
    "        rmse = calculate_rmse(true_values, pred_value)\n",
    "        rmse_list.append(rmse)\n",
    "    average_rmse = np.mean(rmse_list)\n",
    "\n",
    "    tau_1_0_T_learner_XGB = [item[0] for item in uplift_T_learner_XGB]\n",
    "    tau_2_0_T_learner_XGB = [item[1] for item in uplift_T_learner_XGB]\n",
    "    rmse_tau_1_0_T_learner_XGB = average_rmse\n",
    "    rmse_tau_2_0_T_learner_XGB = np.sqrt(mean_squared_error(tau_2_0, tau_2_0_T_learner_XGB))\n",
    "\n",
    "    tau_1_0_optimal = test_all.apply(lambda row: row['E_y|T1_no_rand'] - row['E_y|T0_no_rand'], axis=1)\n",
    "    tau_2_0_optimal = test_all.apply(lambda row: row['E_y|T2_no_rand'] - row['E_y|T0_no_rand'], axis=1)\n",
    "    uplift_optimal = [[diff, value] for diff, value in zip(tau_1_0_optimal, tau_2_0_optimal)]\n",
    "    rmse_tau_1_0_optimal = np.sqrt(mean_squared_error(tau_1_0, tau_1_0_optimal))\n",
    "    rmse_tau_2_0_optimal = np.sqrt(mean_squared_error(tau_2_0, tau_2_0_optimal))\n",
    "\n",
    "    tau_1_0_average = [item[0] for item in uplift_average]\n",
    "    tau_2_0_average = [item[1] for item in uplift_average]\n",
    "    rmse_tau_1_0_average = np.sqrt(mean_squared_error(tau_1_0, tau_1_0_average))\n",
    "    rmse_tau_2_0_average = np.sqrt(mean_squared_error(tau_2_0, tau_2_0_average))\n",
    "\n",
    "    end_time = time.time()\n",
    "    elapsed_time = end_time - start_time\n",
    "\n",
    "    \n",
    "    methods = ['S_learner_XGB', 'T_learner_XGB', 'Optimal','Baseline average']\n",
    "\n",
    "    rmse_tau_1_0_list = [rmse_tau_1_0_S_learner_XGB, rmse_tau_1_0_T_learner_XGB, rmse_tau_1_0_optimal,rmse_tau_1_0_average]\n",
    "\n",
    "    rmse_tau_2_0_list = [rmse_tau_2_0_S_learner_XGB, rmse_tau_2_0_T_learner_XGB, rmse_tau_2_0_optimal,rmse_tau_2_0_average]\n",
    "\n",
    "    pairs_tau_1_0 = zip(methods, rmse_tau_1_0_list)\n",
    "    pairs_tau_2_0 = zip(methods, rmse_tau_2_0_list)\n",
    "    sorted_pairs_tau_1_0 = sorted(pairs_tau_1_0, key=lambda x: x[1])\n",
    "    sorted_pairs_tau_2_0 = sorted(pairs_tau_2_0, key=lambda x: x[1])\n",
    "    sorted_methods_tau_1_0, sorted_rmse_tau_1_0 = zip(*sorted_pairs_tau_1_0)\n",
    "    sorted_methods_tau_2_0, sorted_rmse_tau_2_0 = zip(*sorted_pairs_tau_2_0)\n",
    "    OPTI = optimal_policy[:1000]\n",
    "    \n",
    "    optimal_policy_df = pd.DataFrame(OPTI, columns=['policy'])\n",
    "    optimal_policy_random = optimal_policy_df.sample(n=100, random_state=42)\n",
    "\n",
    "    true_expected_outcome_S_learner_XGB = true_expected_outcome(test_all,predict_policy_S_learner_XGB)\n",
    "    true_expected_outcome_T_learner_XGB = true_expected_outcome(test_all,predict_policy_T_learner_XGB)\n",
    "    true_expected_outcome_baseline = true_expected_outcome(test_all,predict_policy_average)\n",
    "    true_expected_outcome_optimal = true_expected_outcome(test_all,optimal_policy)\n",
    "    \n",
    "    dict_rmse_1['S_learner_XGB'].append(rmse_tau_1_0_S_learner_XGB)\n",
    "    dict_rmse_1['T_learner_XGB'].append(rmse_tau_1_0_T_learner_XGB)\n",
    "    dict_rmse_1['Baseline average'].append(rmse_tau_1_0_average)\n",
    "    dict_rmse_1['Politique optimale'].append(rmse_tau_1_0_optimal)\n",
    "    dict_rmse_2['S_learner_XGB'].append(rmse_tau_2_0_S_learner_XGB)\n",
    "    dict_rmse_2['T_learner_XGB'].append(rmse_tau_2_0_T_learner_XGB)\n",
    "    dict_rmse_2['Baseline average'].append(rmse_tau_2_0_average)\n",
    "    dict_rmse_2['Politique optimale'].append(rmse_tau_2_0_optimal)\n",
    "    dict_expected['S_learner_XGB'].append(expected_outcome_S_learner_XGB)\n",
    "    dict_expected['T_learner_XGB'].append(expected_outcome_T_learner_XGB)\n",
    "    dict_expected['Baseline average'].append(expected_outcome_average)\n",
    "    dict_expected['Politique optimale'].append(expected_outcome_optimal)\n",
    "    X1 = X_train_t[X_train_t['T'] == 1]['X1']\n",
    "    X2 = X_train_t[X_train_t['T'] == 1]['X2']\n",
    "    E_y_T0 = X_train_t[X_train_t['T'] == 1]['Y']\n",
    "    EXPECTED_S_XGB = {percent: true_expected_outcome_S_learner_XGB}\n",
    "    EXPECTED_T_XGB = {percent: true_expected_outcome_T_learner_XGB}\n",
    "    EXPECTED_TRUE = {percent: expected_outcome_true_policy}\n",
    "    EXPECTED_random = {percent: expected_outcome_random_policy}\n",
    "    EXPECTED_optimal = {percent: true_expected_outcome_optimal}\n",
    "    EXPECTED_zero = {percent: expected_outcome_zero_policy}\n",
    "    EXPECTED_average = {percent: expected_outcome_average}\n",
    "    \n",
    "    rmse_S = {percent: rmse_tau_1_0_S_learner_XGB}\n",
    "    rmse_T = {percent: rmse_tau_1_0_T_learner_XGB}\n",
    "    \n",
    "    shared_state_actor.update.remote(percent, EXPECTED_S_XGB[percent], EXPECTED_T_XGB[percent],EXPECTED_TRUE[percent],EXPECTED_random[percent],EXPECTED_optimal[percent],\n",
    "                                     EXPECTED_zero[percent],EXPECTED_average[percent],rmse_S[percent],rmse_T[percent])\n",
    "    ray.get(result_actor.update.remote(percent, expected_outcome_S_learner_XGB))\n",
    "    return expected_outcome_S_learner_XGB, expected_outcome_T_learner_XGB\n",
    "\n",
    "dataset_directory = \"/data/userstorage/nleboudec/Datasets_générés\"\n",
    "\n",
    "for filename in tqdm(os.listdir(dataset_directory), desc=\"Traitement des fichiers CSV\", unit=\"fichier\"):\n",
    "    if filename.endswith(\".csv\"):  # Vérifie si le fichier est un fichier CSV\n",
    "        print(filename)\n",
    "        result_actor = ResultActor.remote()\n",
    "        shared_state = SharedState.remote()\n",
    "        file_path = os.path.join(dataset_directory, filename)\n",
    "        data = pd.read_csv(file_path)\n",
    "\n",
    "        percentages = list(range(0, 101, 5))\n",
    "        futures = [iteration.remote(data,i,shared_state,nb_per_t=5000) for i in percentages]\n",
    "        results = ray.get(futures)\n",
    "        DICT8_EXPECTED = ray.get(result_actor.get_data.remote())\n",
    "        EXPECTED_S_XGB_total = ray.get(shared_state.get_expected_s_xgb.remote())\n",
    "        EXPECTED_T_XGB_total = ray.get(shared_state.get_expected_t_xgb.remote())\n",
    "        EXPECTED_TRUE = ray.get(shared_state.get_expected_true.remote())\n",
    "        EXPECTED_random = ray.get(shared_state.get_expected_random.remote())\n",
    "        EXPECTED_optimal = ray.get(shared_state.get_expected_opti.remote())\n",
    "        EXPECTED_zero = ray.get(shared_state.get_expected_zero.remote())\n",
    "        EXPECTED_average =ray.get(shared_state.get_expected_average.remote())\n",
    "        \n",
    "        \n",
    "        rmse_S = ray.get(shared_state.get_rmse_S.remote())\n",
    "        rmse_T = ray.get(shared_state.get_rmse_T.remote())\n",
    "        \n",
    "        sorted_EO_S_XGB = sorted(EXPECTED_S_XGB_total.keys())\n",
    "        sorted_EO_S_XGB = [EXPECTED_S_XGB_total[key] for key in sorted_EO_S_XGB]\n",
    "        sorted_EO_T_XGB = sorted(EXPECTED_T_XGB_total.keys())\n",
    "        sorted_EO_T_XGB = [EXPECTED_T_XGB_total[key] for key in sorted_EO_T_XGB]\n",
    "        \n",
    "        sorted_keys_TRUE = sorted(EXPECTED_TRUE.keys())\n",
    "        sorted_keys_TRUE = [EXPECTED_TRUE[key] for key in sorted_keys_TRUE]\n",
    "        \n",
    "        sorted_keys_random = sorted(EXPECTED_random.keys())\n",
    "        sorted_keys_random = [EXPECTED_random[key] for key in sorted_keys_random]\n",
    "        \n",
    "        sorted_keys_optimal = sorted(EXPECTED_optimal.keys())\n",
    "        sorted_keys_optimal = [EXPECTED_optimal[key] for key in sorted_keys_optimal]\n",
    "        \n",
    "        sorted_keys_zero = sorted(EXPECTED_zero.keys())\n",
    "        sorted_keys_zero = [EXPECTED_zero[key] for key in sorted_keys_zero]\n",
    "        \n",
    "        sorted_keys_average = sorted(EXPECTED_average.keys())\n",
    "        sorted_keys_average = [EXPECTED_average[key] for key in sorted_keys_average]\n",
    "        \n",
    "        \n",
    "        pourcentages = list(range(0, 101, 5))\n",
    "               \n",
    "        sorted_keys_S_XGB = sorted(rmse_S.keys())\n",
    "        sorted_keys_S_XGB = [rmse_S[key] for key in sorted_keys_S_XGB]\n",
    "        \n",
    "        sorted_keys_T_XGB = sorted(rmse_T.keys())\n",
    "        sorted_keys_T_XGB = [rmse_T[key] for key in sorted_keys_T_XGB]\n",
    "        \n",
    "        pourcentages = list(range(0, 101, 5))\n",
    "               \n",
    "        results_folder = 'Results'  # ou 'chemin/vers/le/dossier/Results'\n",
    "        \n",
    "        if not os.path.exists(results_folder):\n",
    "            os.makedirs(results_folder)\n",
    "        \n",
    "        parts = filename.split('_')\n",
    "        nb_t = parts[0]  # Le nombre avant le tiret\n",
    "        suffix = parts[1] if len(parts) > 1 else \"\"  # Le suffixe après le tiret\n",
    "        \n",
    "        if suffix.startswith('01'):\n",
    "            condition = 'commence par 01'\n",
    "            data_uplift='01'\n",
    "            fold = filename.split(\"01\", 1)[1]\n",
    "            fold = fold.rstrip('.csv')\n",
    "        elif suffix.startswith('0406'):\n",
    "            condition = 'commence par 0406'\n",
    "            data_uplift='0406'\n",
    "            fold = filename.split(\"0406\", 1)[1]\n",
    "            fold = fold.rstrip('.csv')\n",
    "        elif suffix.startswith('0208'):\n",
    "            condition = 'commence par 0208'\n",
    "            data_uplift='0208'\n",
    "            fold = filename.split(\"0208\", 1)[1]\n",
    "            fold = fold.rstrip('.csv')\n",
    "        else:\n",
    "            condition = 'ne correspond à aucune condition'\n",
    "        \n",
    "        df = pd.DataFrame(columns=[\"Methode\", \"Data uplift\", \"Nb ind par t\",\"Nb de t\",\"Nb case uplift\",\"Fold\",\"EO test\",\"EO test list\",\n",
    "                                   \"RMSE test\",\"RMSE test list\"])\n",
    "        \n",
    "        new_row = {\n",
    "            \"Methode\": \"S Learner XGB\",\n",
    "            \"Data uplift\": data_uplift,  \n",
    "            \"Nb ind par t\": 5000,  \n",
    "            \"Nb de t\": nb_t,  \n",
    "            \"Nb case uplift\": 10,  \n",
    "            \"Fold\" : fold,\n",
    "            \"EO test\":sum(sorted_EO_S_XGB) / len(sorted_EO_S_XGB),\n",
    "            \"EO test list\":sorted_EO_S_XGB,\n",
    "            \"RMSE test\":sum(sorted_keys_S_XGB) / len(sorted_keys_S_XGB),\n",
    "            \"RMSE test list\": sorted_keys_S_XGB\n",
    "        \n",
    "        }\n",
    "        \n",
    "        new_row = pd.DataFrame([new_row]) \n",
    "        df = pd.concat([df, new_row], ignore_index=True)\n",
    "        \n",
    "        new_row = {\n",
    "            \"Methode\": \"T Learner XGB\",\n",
    "            \"Data uplift\": data_uplift,  \n",
    "            \"Nb ind par t\": 5000,  \n",
    "            \"Nb de t\": nb_t,  \n",
    "            \"Nb case uplift\": 10,  \n",
    "            \"Fold\" : fold,\n",
    "            \"EO test\":sum(sorted_EO_T_XGB) / len(sorted_EO_T_XGB),\n",
    "            \"EO test list\":sorted_EO_T_XGB,\n",
    "            \"RMSE test\":sum(sorted_keys_T_XGB) / len(sorted_keys_T_XGB),\n",
    "            \"RMSE test list\": sorted_keys_T_XGB\n",
    "        \n",
    "        }\n",
    "        \n",
    "        new_row = pd.DataFrame([new_row]) \n",
    "        df = pd.concat([df, new_row], ignore_index=True)\n",
    "        titre=nb_t+'_' + data_uplift+fold+'.csv'\n",
    "        csv_path = os.path.join(results_folder, titre)\n",
    "        df.to_csv(csv_path, sep='\\t', index=False)\n"
   ]
  },
  {
   "cell_type": "code",
   "execution_count": 30,
   "id": "4daa9712-6311-4fa0-bead-54d48ae57dbd",
   "metadata": {},
   "outputs": [
    {
     "name": "stdout",
     "output_type": "stream",
     "text": [
      "150\n"
     ]
    }
   ],
   "source": []
  },
  {
   "cell_type": "code",
   "execution_count": 31,
   "id": "2b01697c-4c04-4406-9f1c-59c27184e880",
   "metadata": {},
   "outputs": [],
   "source": []
  },
  {
   "cell_type": "code",
   "execution_count": null,
   "id": "01350805-20ca-4a4a-9813-22756cc91ab5",
   "metadata": {},
   "outputs": [],
   "source": []
  },
  {
   "cell_type": "code",
   "execution_count": null,
   "id": "180b335e-5fc6-4fd9-a13f-0bb5004eec7d",
   "metadata": {},
   "outputs": [],
   "source": []
  },
  {
   "cell_type": "code",
   "execution_count": null,
   "id": "e04d6fd6-f04b-4aae-91f4-5aec6c19b2f5",
   "metadata": {},
   "outputs": [],
   "source": []
  }
 ],
 "metadata": {
  "kernelspec": {
   "display_name": "python310",
   "language": "python",
   "name": "python310"
  },
  "language_info": {
   "codemirror_mode": {
    "name": "ipython",
    "version": 3
   },
   "file_extension": ".py",
   "mimetype": "text/x-python",
   "name": "python",
   "nbconvert_exporter": "python",
   "pygments_lexer": "ipython3",
   "version": "3.10.14"
  }
 },
 "nbformat": 4,
 "nbformat_minor": 5
}
